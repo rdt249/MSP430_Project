{
 "cells": [
  {
   "cell_type": "code",
   "execution_count": 21,
   "id": "75e59323",
   "metadata": {},
   "outputs": [
    {
     "name": "stdout",
     "output_type": "stream",
     "text": [
      "failed to connect to o-scope\n"
     ]
    },
    {
     "data": {
      "text/plain": [
       "'# directory setup\\ndirectory = input(\"Folder name : \") \\nif os.path.isdir(directory):\\n    os.chdir(directory)\\n    print(\"Using existing directory:\",os.getcwd())\\nelse:\\n    os.mkdir(directory)\\n    os.chdir(directory)\\n    print(\"Created new directory:\", os.getcwd())'"
      ]
     },
     "execution_count": 21,
     "metadata": {},
     "output_type": "execute_result"
    }
   ],
   "source": [
    "# http://techforcurious.website/how-to-save-data-from-oscilloscope-using-python-in-linux/#more-348\n",
    " \n",
    "# import libraries\n",
    "import os # for accessing files/directories\n",
    "import pandas as pd # for data processing\n",
    "import numpy as np # for data processing\n",
    "import pyvisa\n",
    "\n",
    "#connect to scope\n",
    "oscope_ready = False\n",
    "try :\n",
    "    rm = pyvisa.ResourceManager()\n",
    "    scope = rm.open_resource('TCPIP0::192.168.10.2::inst0::INSTR')\n",
    "    print(scope.query('*idn?'))\n",
    "    scope.timeout = 100000\n",
    "    numFrames1 = 1\n",
    "    frameSize = 50000900\n",
    "    scope.write('horizontal:fastframe:count {}'.format(numFrames1)) #set number of frames\n",
    "    scope.write('horizontal:fastframe:state 1') #turn on fast frame\n",
    "    scope.write('DATa:STARt 1')\n",
    "    scope.write('DATa:STOP 500000')\n",
    "    scope.write('save:waveform:fileformat spreadsheetcsv') #set format before data start/stop\n",
    "    #scope.write('saveon:numevents 10')\n",
    "    #print(scope.query('saveon:numevents?'))\n",
    "    scope.write('save:waveform:data:start 1') #ensure data range is good\n",
    "    scope.write('save:waveform:data:stop {}'.format(frameSize)) #ensure data range is good\n",
    "    oscope_ready = True\n",
    "except :\n",
    "    print(\"failed to connect to o-scope\")    \n",
    "\n",
    "# serial device setup\n",
    "serial_device = '/dev/ttyUSB0'\n",
    "baud_rate = 9600\n",
    "from serial import Serial\n",
    "serial = Serial(serial_device)\n",
    "serial.flush()"
   ]
  },
  {
   "cell_type": "code",
   "execution_count": 22,
   "id": "1fd1dce3",
   "metadata": {},
   "outputs": [],
   "source": [
    "# read MCU ADC function\n",
    "def read_adc() :\n",
    "    line = \"\"\n",
    "    while line == \"\" :\n",
    "        serial.write(b'j')\n",
    "        line = serial.readline().decode('ascii')\n",
    "    return int(line)\n",
    "    \n",
    "# ADC sweep function\n",
    "import board\n",
    "import busio\n",
    "import adafruit_mcp4728\n",
    "import adafruit_ads1x15.ads1115 as ADS\n",
    "from adafruit_ads1x15.analog_in import AnalogIn\n",
    "i2c = busio.I2C(board.SCL, board.SDA)\n",
    "dac =  adafruit_mcp4728.MCP4728(i2c).channel_a\n",
    "adc = AnalogIn(ADS.ADS1115(i2c,address=0x49),ADS.P0)\n",
    "def adc_sweep(step=10,vmax=3.3,dots=False) :\n",
    "    limit = int(vmax/3.3 * 4095)\n",
    "    df = pd.DataFrame(index=[\"raw_in\",\"v_in\",\"raw_out\",\"v_out\"])\n",
    "    for i in range(0,limit+1,step) :\n",
    "        if dots : \n",
    "            print('.',end='')\n",
    "        dac.raw_value = i\n",
    "        raw_out = read_adc()\n",
    "        v_out = raw_out/4095 * 3.3\n",
    "        v_in = adc.voltage\n",
    "        df[i] = [i,v_in,raw_out,v_out]\n",
    "    return df.T"
   ]
  },
  {
   "cell_type": "code",
   "execution_count": 23,
   "id": "b14c39d1",
   "metadata": {},
   "outputs": [],
   "source": [
    "def save_aclk() :\n",
    "    #CH1: Aclk\n",
    "    scope.write('recall:setup \"vandysetupAclk1.set\"')\n",
    "    scope.query('*opc?') # sync\n",
    "    #acquire a set of frames and then stop acquiring\n",
    "    scope.write('acquire:state 0')\n",
    "    scope.write('acquire:stopafter SEQUENCE')\n",
    "    scope.write('acquire:state 1')\n",
    "    scope.query('*opc?')\n",
    "    scope.write('data:framestart 1') #controls starting frame\n",
    "    scope.write('data:framestop 1') #controls ending frame\n",
    "    #scope.write('FILESYSTEM:CWD \\\"F:\\\\\"')\n",
    "    #scope.write('FILESystem:MKDir \\\"F:\\Channel1\\Trial{}\"'.format(Trialnum))\n",
    "    filenameCh1 = r'F:\\Channel1\\Trial{}.csv'.format(i)\n",
    "    scope.write('save:waveform CH1,\"{}\"'.format(filenameCh1))\n",
    "    scope.query('*opc?')\n",
    "\n",
    "def save_mclk() :\n",
    "    #CH2: Mclk\n",
    "    scope.write('recall:setup \"vandysetupMclk2.set\"')\n",
    "    scope.query('*opc?') # sync\n",
    "    #acquire a set of frames and then stop acquiring\n",
    "    scope.write('acquire:state 0')\n",
    "    scope.write('acquire:stopafter SEQUENCE')\n",
    "    scope.write('acquire:state 1')\n",
    "    scope.query('*opc?')\n",
    "    scope.write('data:framestart 1') #controls starting frame\n",
    "    scope.write('data:framestop 1') #controls ending frame\n",
    "    #scope.write('FILESYSTEM:CWD \\\"F:\\\\\"')\n",
    "    #scope.write('FILESystem:MKDir \\\"F:\\Channel2\\Trial{}\"'.format(Trialnum))\n",
    "    filenameCh2 = r'F:\\Channel2\\Trial{}.csv'.format(i)\n",
    "    scope.write('save:waveform CH2,\"{}\"'.format(filenameCh2))\n",
    "    scope.query('*opc?')"
   ]
  },
  {
   "cell_type": "code",
   "execution_count": 33,
   "id": "b065e97a",
   "metadata": {},
   "outputs": [
    {
     "name": "stdout",
     "output_type": "stream",
     "text": [
      "Trial number: 0\n",
      "...................................Trial number: -1\n",
      "exiting\n"
     ]
    }
   ],
   "source": [
    "while True :\n",
    "    Trialnum = int(input(\"Trial number: \"))\n",
    "    if Trialnum == -1 :\n",
    "        print('exiting')\n",
    "        break\n",
    "    i = Trialnum\n",
    "    \n",
    "    #save all channels to csv for oscope       \n",
    "    if oscope_ready :\n",
    "        scope.write('FILESYSTEM:CWD \\\"F:\\\\\"')             #Changed F to D for new Flashdrive\n",
    "        save_aclk()\n",
    "        save_mclk()\n",
    "    \n",
    "    file = 'Trial'+ str(i) + '.csv'\n",
    "\n",
    "    # sweep adc and save csv\n",
    "    adc_data = adc_sweep(step=100,dots=True)\n",
    "    adc_data.to_csv('data/adc/'+file)"
   ]
  },
  {
   "cell_type": "code",
   "execution_count": 36,
   "id": "e9e01586",
   "metadata": {},
   "outputs": [
    {
     "data": {
      "text/plain": [
       "<AxesSubplot:xlabel='v_in'>"
      ]
     },
     "execution_count": 36,
     "metadata": {},
     "output_type": "execute_result"
    },
    {
     "data": {
      "image/png": "[encoded data removed]",
      "text/plain": [
       "<Figure size 432x288 with 1 Axes>"
      ]
     },
     "metadata": {
      "needs_background": "light"
     },
     "output_type": "display_data"
    }
   ],
   "source": [
    "file = 'data/adc/Trial0.csv'\n",
    "df = pd.read_csv(file,index_col=0)\n",
    "df = df[['v_in','v_out']].set_index('v_in')\n",
    "df.plot()"
   ]
  },
  {
   "cell_type": "code",
   "execution_count": null,
   "id": "906d1c72",
   "metadata": {},
   "outputs": [],
   "source": []
  }
 ],
 "metadata": {
  "kernelspec": {
   "display_name": "Python 3 (ipykernel)",
   "language": "python",
   "name": "python3"
  },
  "language_info": {
   "codemirror_mode": {
    "name": "ipython",
    "version": 3
   },
   "file_extension": ".py",
   "mimetype": "text/x-python",
   "name": "python",
   "nbconvert_exporter": "python",
   "pygments_lexer": "ipython3",
   "version": "3.9.2"
  }
 },
 "nbformat": 4,
 "nbformat_minor": 5
}
